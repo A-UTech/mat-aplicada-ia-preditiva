{
 "cells": [
  {
   "metadata": {},
   "cell_type": "markdown",
   "source": [
    "<h1>Inteligência Artificial Preditiva: Auto ML</h1>\n",
    "\n",
    "<p>Este notebook tem como objetivo explorar 5 principais modelos de inteligência artificial preditiva: </p>\n",
    "<ol>\n",
    "    <h3>Regressão</h3>\n",
    "<li>Regressão Linear</li>\n",
    "    <h3>Classificação</h3>\n",
    "<li>Naive Bayes</li>\n",
    "<li>Decision Tree: Gini</li>\n",
    "<li>Decision Tree: Entropia</li>\n",
    "<li>K-Nearest Neighbors (KNN)</li>\n",
    "</ol>\n",
    "\n",
    "<p>Desses 5, usaremos a que melhor performou para a base de dados que você irá inserir!\n",
    "</p>\n",
    "\n",
    "#### CODEOWNERS:\n",
    "- **Rafael Cruz** [GitHub](https://github.com/RafaelBarretoCruz)\n",
    "- **Gabriel Martins** [GitHub](https://github.com/GabrielOliveiraGerminare1H)\n",
    "- **Fellipe Meira** [GitHub](https://github.com/fellipemeiraGerminare)\n",
    "\n"
   ],
   "id": "44c70cb17dd9cfa8"
  },
  {
   "metadata": {},
   "cell_type": "markdown",
   "source": "<h1> Importando bibliotecas </h1>",
   "id": "71f933bb3f5861dc"
  },
  {
   "metadata": {
    "ExecuteTime": {
     "end_time": "2025-09-03T01:12:14.044095Z",
     "start_time": "2025-09-03T01:12:14.037359Z"
    }
   },
   "cell_type": "code",
   "source": [
    "import pandas as pd\n",
    "import csv\n",
    "import numpy as np\n",
    "import matplotlib.pyplot as plt\n",
    "import seaborn as sns\n",
    "\n",
    "from sklearn.model_selection import train_test_split\n",
    "from sklearn.linear_model import LinearRegression\n",
    "from sklearn.naive_bayes import GaussianNB\n",
    "from sklearn.tree import DecisionTreeClassifier\n",
    "from sklearn.neighbors import KNeighborsClassifier\n",
    "\n",
    "from sklearn.metrics import mean_squared_error, accuracy_score, confusion_matrix, f1_score, ConfusionMatrixDisplay, \\\n",
    "    precision_score, recall_score\n",
    "from sklearn.preprocessing import LabelEncoder, StandardScaler\n",
    "\n",
    "import yellowbrick.classifier as yb\n",
    "\n",
    "\n",
    "pd.set_option('display.max_columns', None)\n"
   ],
   "id": "997df5bc6debb463",
   "outputs": [],
   "execution_count": 404
  },
  {
   "metadata": {},
   "cell_type": "markdown",
   "source": "<h1> Carregando a base de dados </h1>",
   "id": "bafa80865e001be3"
  },
  {
   "metadata": {
    "ExecuteTime": {
     "end_time": "2025-09-03T01:12:21.073676Z",
     "start_time": "2025-09-03T01:12:14.053633Z"
    }
   },
   "cell_type": "code",
   "source": [
    "csv_nome = input(\"Digite o nome do arquivo CSV (incluindo a extensão .csv): \")\n",
    "\n",
    "# Detecta o delimitador automaticamente\n",
    "with open(csv_nome, \"r\", encoding=\"utf-8\") as f:\n",
    "    sniffer = csv.Sniffer()\n",
    "    sample = f.read(2048)\n",
    "    f.seek(0)\n",
    "    delimiter_encontrado = sniffer.sniff(sample).delimiter\n",
    "\n",
    "print(f\"Delimitador detectado: '{delimiter_encontrado}'\")\n",
    "\n",
    "try:\n",
    "    data = pd.read_csv(csv_nome, delimiter=delimiter_encontrado)\n",
    "    print(\"Arquivo carregado!\")\n",
    "except FileNotFoundError:\n",
    "    print(\"Arquivo não encontrado. Verifique o nome e o caminho do arquivo.\")\n",
    "except Exception as e:\n",
    "    print(f\"Ocorreu um erro ao carregar o arquivo: {e}\")"
   ],
   "id": "ddee5a5713eeed2f",
   "outputs": [
    {
     "name": "stdout",
     "output_type": "stream",
     "text": [
      "Delimitador detectado: ','\n",
      "Arquivo carregado!\n"
     ]
    }
   ],
   "execution_count": 405
  },
  {
   "metadata": {},
   "cell_type": "markdown",
   "source": "<h1> Primeira visualização da base</h1>",
   "id": "637b4fd31fbf2555"
  },
  {
   "metadata": {
    "ExecuteTime": {
     "end_time": "2025-09-03T01:12:21.150211Z",
     "start_time": "2025-09-03T01:12:21.139349Z"
    }
   },
   "cell_type": "code",
   "source": "display(data.head())",
   "id": "f2f5c9ccac85add6",
   "outputs": [
    {
     "data": {
      "text/plain": [
       "   step      type    amount     nameOrig  oldbalanceOrg  newbalanceOrig  \\\n",
       "0     1   PAYMENT   9839.64  C1231006815       170136.0       160296.36   \n",
       "1     1   PAYMENT   1864.28  C1666544295        21249.0        19384.72   \n",
       "2     1  TRANSFER    181.00  C1305486145          181.0            0.00   \n",
       "3     1  CASH_OUT    181.00   C840083671          181.0            0.00   \n",
       "4     1   PAYMENT  11668.14  C2048537720        41554.0        29885.86   \n",
       "\n",
       "      nameDest  oldbalanceDest  newbalanceDest  isFraud  isFlaggedFraud  \n",
       "0  M1979787155             0.0             0.0        0               0  \n",
       "1  M2044282225             0.0             0.0        0               0  \n",
       "2   C553264065             0.0             0.0        1               0  \n",
       "3    C38997010         21182.0             0.0        1               0  \n",
       "4  M1230701703             0.0             0.0        0               0  "
      ],
      "text/html": [
       "<div>\n",
       "<style scoped>\n",
       "    .dataframe tbody tr th:only-of-type {\n",
       "        vertical-align: middle;\n",
       "    }\n",
       "\n",
       "    .dataframe tbody tr th {\n",
       "        vertical-align: top;\n",
       "    }\n",
       "\n",
       "    .dataframe thead th {\n",
       "        text-align: right;\n",
       "    }\n",
       "</style>\n",
       "<table border=\"1\" class=\"dataframe\">\n",
       "  <thead>\n",
       "    <tr style=\"text-align: right;\">\n",
       "      <th></th>\n",
       "      <th>step</th>\n",
       "      <th>type</th>\n",
       "      <th>amount</th>\n",
       "      <th>nameOrig</th>\n",
       "      <th>oldbalanceOrg</th>\n",
       "      <th>newbalanceOrig</th>\n",
       "      <th>nameDest</th>\n",
       "      <th>oldbalanceDest</th>\n",
       "      <th>newbalanceDest</th>\n",
       "      <th>isFraud</th>\n",
       "      <th>isFlaggedFraud</th>\n",
       "    </tr>\n",
       "  </thead>\n",
       "  <tbody>\n",
       "    <tr>\n",
       "      <th>0</th>\n",
       "      <td>1</td>\n",
       "      <td>PAYMENT</td>\n",
       "      <td>9839.64</td>\n",
       "      <td>C1231006815</td>\n",
       "      <td>170136.0</td>\n",
       "      <td>160296.36</td>\n",
       "      <td>M1979787155</td>\n",
       "      <td>0.0</td>\n",
       "      <td>0.0</td>\n",
       "      <td>0</td>\n",
       "      <td>0</td>\n",
       "    </tr>\n",
       "    <tr>\n",
       "      <th>1</th>\n",
       "      <td>1</td>\n",
       "      <td>PAYMENT</td>\n",
       "      <td>1864.28</td>\n",
       "      <td>C1666544295</td>\n",
       "      <td>21249.0</td>\n",
       "      <td>19384.72</td>\n",
       "      <td>M2044282225</td>\n",
       "      <td>0.0</td>\n",
       "      <td>0.0</td>\n",
       "      <td>0</td>\n",
       "      <td>0</td>\n",
       "    </tr>\n",
       "    <tr>\n",
       "      <th>2</th>\n",
       "      <td>1</td>\n",
       "      <td>TRANSFER</td>\n",
       "      <td>181.00</td>\n",
       "      <td>C1305486145</td>\n",
       "      <td>181.0</td>\n",
       "      <td>0.00</td>\n",
       "      <td>C553264065</td>\n",
       "      <td>0.0</td>\n",
       "      <td>0.0</td>\n",
       "      <td>1</td>\n",
       "      <td>0</td>\n",
       "    </tr>\n",
       "    <tr>\n",
       "      <th>3</th>\n",
       "      <td>1</td>\n",
       "      <td>CASH_OUT</td>\n",
       "      <td>181.00</td>\n",
       "      <td>C840083671</td>\n",
       "      <td>181.0</td>\n",
       "      <td>0.00</td>\n",
       "      <td>C38997010</td>\n",
       "      <td>21182.0</td>\n",
       "      <td>0.0</td>\n",
       "      <td>1</td>\n",
       "      <td>0</td>\n",
       "    </tr>\n",
       "    <tr>\n",
       "      <th>4</th>\n",
       "      <td>1</td>\n",
       "      <td>PAYMENT</td>\n",
       "      <td>11668.14</td>\n",
       "      <td>C2048537720</td>\n",
       "      <td>41554.0</td>\n",
       "      <td>29885.86</td>\n",
       "      <td>M1230701703</td>\n",
       "      <td>0.0</td>\n",
       "      <td>0.0</td>\n",
       "      <td>0</td>\n",
       "      <td>0</td>\n",
       "    </tr>\n",
       "  </tbody>\n",
       "</table>\n",
       "</div>"
      ]
     },
     "metadata": {},
     "output_type": "display_data"
    }
   ],
   "execution_count": 406
  },
  {
   "metadata": {},
   "cell_type": "markdown",
   "source": "<h1> Definindo a coluna que será prevista (variável target)</h1>",
   "id": "f62666cee5796e35"
  },
  {
   "metadata": {
    "ExecuteTime": {
     "end_time": "2025-09-03T01:12:23.137314Z",
     "start_time": "2025-09-03T01:12:21.158222Z"
    }
   },
   "cell_type": "code",
   "source": [
    "coluna_target = input(\"Digite o nome da coluna que você deseja prever (variável target): \")\n",
    "if coluna_target not in data.columns:\n",
    "    raise ValueError(f\"A coluna '{coluna_target}' não existe na base de dados.\")\n",
    "else:\n",
    "    x = data.drop(columns=[coluna_target])\n",
    "    y = data[coluna_target]"
   ],
   "id": "97c457fd0ebb1575",
   "outputs": [],
   "execution_count": 407
  },
  {
   "metadata": {},
   "cell_type": "markdown",
   "source": "<h1> Pré-processamento dos dados </h1>",
   "id": "7a2430a4f064993e"
  },
  {
   "metadata": {
    "ExecuteTime": {
     "end_time": "2025-09-03T01:12:23.635795Z",
     "start_time": "2025-09-03T01:12:23.226834Z"
    }
   },
   "cell_type": "code",
   "source": [
    "num_cols = x.select_dtypes(include=[\"int64\", \"float64\"]).columns\n",
    "cat_cols = x.select_dtypes(include=[\"object\", \"category\"]).columns\n",
    "\n",
    "# Codificar categóricas\n",
    "for col in cat_cols:\n",
    "    le = LabelEncoder()\n",
    "    x[col] = le.fit_transform(x[col].astype(str))\n",
    "\n",
    "# Normalizar apenas se houver numéricas\n",
    "if len(num_cols) > 0:\n",
    "    scaler = StandardScaler()\n",
    "    x[num_cols] = scaler.fit_transform(x[num_cols])"
   ],
   "id": "accf766caa8f258e",
   "outputs": [],
   "execution_count": 408
  },
  {
   "metadata": {},
   "cell_type": "markdown",
   "source": "<h1> Visualizando novamente a base de dados </h1>",
   "id": "cbb8e1499f1a9266"
  },
  {
   "metadata": {
    "ExecuteTime": {
     "end_time": "2025-09-03T01:12:23.702054Z",
     "start_time": "2025-09-03T01:12:23.687995Z"
    }
   },
   "cell_type": "code",
   "source": "display(x.head())",
   "id": "9858ca6721358bef",
   "outputs": [
    {
     "data": {
      "text/plain": [
       "       step  type    amount  nameOrig  oldbalanceOrg  newbalanceOrig  \\\n",
       "0 -4.132243     3 -0.476063     12031      -0.260478       -0.266174   \n",
       "1 -4.132243     3 -0.499179     34878      -0.313097       -0.315319   \n",
       "2 -4.132243     4 -0.504058     15860      -0.320542       -0.322079   \n",
       "3 -4.132243     1 -0.504058     93247      -0.320542       -0.322079   \n",
       "4 -4.132243     3 -0.470763     54896      -0.305921       -0.311656   \n",
       "\n",
       "   nameDest  oldbalanceDest  newbalanceDest  isFlaggedFraud  \n",
       "0     32431       -0.367111       -0.423197             0.0  \n",
       "1     33746       -0.367111       -0.423197             0.0  \n",
       "2      9437       -0.367111       -0.423197             0.0  \n",
       "3      8393       -0.358285       -0.423197             0.0  \n",
       "4     16923       -0.367111       -0.423197             0.0  "
      ],
      "text/html": [
       "<div>\n",
       "<style scoped>\n",
       "    .dataframe tbody tr th:only-of-type {\n",
       "        vertical-align: middle;\n",
       "    }\n",
       "\n",
       "    .dataframe tbody tr th {\n",
       "        vertical-align: top;\n",
       "    }\n",
       "\n",
       "    .dataframe thead th {\n",
       "        text-align: right;\n",
       "    }\n",
       "</style>\n",
       "<table border=\"1\" class=\"dataframe\">\n",
       "  <thead>\n",
       "    <tr style=\"text-align: right;\">\n",
       "      <th></th>\n",
       "      <th>step</th>\n",
       "      <th>type</th>\n",
       "      <th>amount</th>\n",
       "      <th>nameOrig</th>\n",
       "      <th>oldbalanceOrg</th>\n",
       "      <th>newbalanceOrig</th>\n",
       "      <th>nameDest</th>\n",
       "      <th>oldbalanceDest</th>\n",
       "      <th>newbalanceDest</th>\n",
       "      <th>isFlaggedFraud</th>\n",
       "    </tr>\n",
       "  </thead>\n",
       "  <tbody>\n",
       "    <tr>\n",
       "      <th>0</th>\n",
       "      <td>-4.132243</td>\n",
       "      <td>3</td>\n",
       "      <td>-0.476063</td>\n",
       "      <td>12031</td>\n",
       "      <td>-0.260478</td>\n",
       "      <td>-0.266174</td>\n",
       "      <td>32431</td>\n",
       "      <td>-0.367111</td>\n",
       "      <td>-0.423197</td>\n",
       "      <td>0.0</td>\n",
       "    </tr>\n",
       "    <tr>\n",
       "      <th>1</th>\n",
       "      <td>-4.132243</td>\n",
       "      <td>3</td>\n",
       "      <td>-0.499179</td>\n",
       "      <td>34878</td>\n",
       "      <td>-0.313097</td>\n",
       "      <td>-0.315319</td>\n",
       "      <td>33746</td>\n",
       "      <td>-0.367111</td>\n",
       "      <td>-0.423197</td>\n",
       "      <td>0.0</td>\n",
       "    </tr>\n",
       "    <tr>\n",
       "      <th>2</th>\n",
       "      <td>-4.132243</td>\n",
       "      <td>4</td>\n",
       "      <td>-0.504058</td>\n",
       "      <td>15860</td>\n",
       "      <td>-0.320542</td>\n",
       "      <td>-0.322079</td>\n",
       "      <td>9437</td>\n",
       "      <td>-0.367111</td>\n",
       "      <td>-0.423197</td>\n",
       "      <td>0.0</td>\n",
       "    </tr>\n",
       "    <tr>\n",
       "      <th>3</th>\n",
       "      <td>-4.132243</td>\n",
       "      <td>1</td>\n",
       "      <td>-0.504058</td>\n",
       "      <td>93247</td>\n",
       "      <td>-0.320542</td>\n",
       "      <td>-0.322079</td>\n",
       "      <td>8393</td>\n",
       "      <td>-0.358285</td>\n",
       "      <td>-0.423197</td>\n",
       "      <td>0.0</td>\n",
       "    </tr>\n",
       "    <tr>\n",
       "      <th>4</th>\n",
       "      <td>-4.132243</td>\n",
       "      <td>3</td>\n",
       "      <td>-0.470763</td>\n",
       "      <td>54896</td>\n",
       "      <td>-0.305921</td>\n",
       "      <td>-0.311656</td>\n",
       "      <td>16923</td>\n",
       "      <td>-0.367111</td>\n",
       "      <td>-0.423197</td>\n",
       "      <td>0.0</td>\n",
       "    </tr>\n",
       "  </tbody>\n",
       "</table>\n",
       "</div>"
      ]
     },
     "metadata": {},
     "output_type": "display_data"
    }
   ],
   "execution_count": 409
  },
  {
   "metadata": {},
   "cell_type": "markdown",
   "source": "<h1> Separação entre treino e teste </h1>",
   "id": "96f3798782f42e4"
  },
  {
   "metadata": {
    "ExecuteTime": {
     "end_time": "2025-09-03T01:12:23.770851Z",
     "start_time": "2025-09-03T01:12:23.748256Z"
    }
   },
   "cell_type": "code",
   "source": [
    "x_train, x_test, y_train, y_test = train_test_split(\n",
    "    x, y, test_size=0.21, random_state=42\n",
    ")"
   ],
   "id": "8faa21c896148b08",
   "outputs": [],
   "execution_count": 410
  },
  {
   "metadata": {},
   "cell_type": "markdown",
   "source": "<h1> Detectando o tipo da variável target para seguirmos com o modelo</h1>",
   "id": "aa8fabee929b8fc3"
  },
  {
   "metadata": {
    "ExecuteTime": {
     "end_time": "2025-09-03T01:12:23.896432Z",
     "start_time": "2025-09-03T01:12:23.890290Z"
    }
   },
   "cell_type": "code",
   "source": [
    "if y.dtype == \"object\" or len(np.unique(y)) < 30:\n",
    "    problema = \"classificacao\"\n",
    "else:\n",
    "    problema = \"regressao\""
   ],
   "id": "4c0c55fe2bf45bd6",
   "outputs": [],
   "execution_count": 411
  },
  {
   "metadata": {},
   "cell_type": "markdown",
   "source": "<h1> Definindo possíveis modelos </h1>",
   "id": "d9031a73f081ef0e"
  },
  {
   "metadata": {
    "ExecuteTime": {
     "end_time": "2025-09-03T01:12:23.999243Z",
     "start_time": "2025-09-03T01:12:23.992705Z"
    }
   },
   "cell_type": "code",
   "source": [
    "if problema == \"classificacao\":\n",
    "    modelos = {\n",
    "        \"Decision Tree (Gini)\": DecisionTreeClassifier(criterion=\"gini\", random_state=42),\n",
    "        \"Decision Tree (Entropia)\": DecisionTreeClassifier(criterion=\"entropy\", random_state=42),\n",
    "        \"Naive Bayes\": GaussianNB(),\n",
    "        \"KNN\": KNeighborsClassifier(),\n",
    "    }\n",
    "else:\n",
    "    modelos = {\n",
    "        \"Regressão Linear\": LinearRegression(),\n",
    "    }\n"
   ],
   "id": "a6b9b16df20d76f8",
   "outputs": [],
   "execution_count": 412
  },
  {
   "metadata": {},
   "cell_type": "markdown",
   "source": "<h1> Treinando e avaliando os modelos </h1>",
   "id": "c82b9f7eeb6e6962"
  },
  {
   "metadata": {
    "ExecuteTime": {
     "end_time": "2025-09-03T01:12:25.972316Z",
     "start_time": "2025-09-03T01:12:24.070519Z"
    }
   },
   "cell_type": "code",
   "source": [
    "resultados = {}\n",
    "\n",
    "for nome, modelo in modelos.items():\n",
    "    modelo.fit(x_train, y_train)\n",
    "    y_pred = modelo.predict(x_test)\n",
    "\n",
    "    if problema == \"classificacao\":\n",
    "        acc = accuracy_score(y_test, y_pred)\n",
    "        f1 = f1_score(y_test, y_pred, average=\"weighted\")\n",
    "        precision = precision_score(y_test, y_pred, average=\"weighted\", zero_division=0)\n",
    "        recall = recall_score(y_test,y_pred, average=\"weighted\", zero_division=0)\n",
    "        resultados[nome] = {\"Accuracy\": acc, \"F1-Score\": f1, \"Precision\": precision, \"Recall\": recall}\n",
    "    else:\n",
    "        mse = mean_squared_error(y_test, y_pred)\n",
    "        resultados[nome] = {\"MSE\": mse}"
   ],
   "id": "bae8785dc1c92cb0",
   "outputs": [],
   "execution_count": 413
  },
  {
   "metadata": {},
   "cell_type": "markdown",
   "source": "<h1> Resultados dos modelos </h1>",
   "id": "3a4b404de1259fac"
  },
  {
   "metadata": {
    "ExecuteTime": {
     "end_time": "2025-09-03T01:12:25.991222Z",
     "start_time": "2025-09-03T01:12:25.980859Z"
    }
   },
   "cell_type": "code",
   "source": [
    "df_resultados = pd.DataFrame(resultados).T\n",
    "display(df_resultados)\n",
    "\n",
    "# Identificar melhor modelo\n",
    "if problema == \"classificacao\":\n",
    "    melhor = df_resultados[\"Accuracy\"].idxmax()\n",
    "\n",
    "else:\n",
    "    melhor = df_resultados[\"MSE\"].idxmin()\n"
   ],
   "id": "1232cc79999e45df",
   "outputs": [
    {
     "data": {
      "text/plain": [
       "                          Accuracy  F1-Score  Precision    Recall\n",
       "Decision Tree (Gini)      0.999250  0.999250   0.999250  0.999250\n",
       "Decision Tree (Entropia)  0.999391  0.999384   0.999377  0.999391\n",
       "Naive Bayes               0.990253  0.994086   0.997983  0.990253\n",
       "KNN                       0.998969  0.998454   0.997939  0.998969"
      ],
      "text/html": [
       "<div>\n",
       "<style scoped>\n",
       "    .dataframe tbody tr th:only-of-type {\n",
       "        vertical-align: middle;\n",
       "    }\n",
       "\n",
       "    .dataframe tbody tr th {\n",
       "        vertical-align: top;\n",
       "    }\n",
       "\n",
       "    .dataframe thead th {\n",
       "        text-align: right;\n",
       "    }\n",
       "</style>\n",
       "<table border=\"1\" class=\"dataframe\">\n",
       "  <thead>\n",
       "    <tr style=\"text-align: right;\">\n",
       "      <th></th>\n",
       "      <th>Accuracy</th>\n",
       "      <th>F1-Score</th>\n",
       "      <th>Precision</th>\n",
       "      <th>Recall</th>\n",
       "    </tr>\n",
       "  </thead>\n",
       "  <tbody>\n",
       "    <tr>\n",
       "      <th>Decision Tree (Gini)</th>\n",
       "      <td>0.999250</td>\n",
       "      <td>0.999250</td>\n",
       "      <td>0.999250</td>\n",
       "      <td>0.999250</td>\n",
       "    </tr>\n",
       "    <tr>\n",
       "      <th>Decision Tree (Entropia)</th>\n",
       "      <td>0.999391</td>\n",
       "      <td>0.999384</td>\n",
       "      <td>0.999377</td>\n",
       "      <td>0.999391</td>\n",
       "    </tr>\n",
       "    <tr>\n",
       "      <th>Naive Bayes</th>\n",
       "      <td>0.990253</td>\n",
       "      <td>0.994086</td>\n",
       "      <td>0.997983</td>\n",
       "      <td>0.990253</td>\n",
       "    </tr>\n",
       "    <tr>\n",
       "      <th>KNN</th>\n",
       "      <td>0.998969</td>\n",
       "      <td>0.998454</td>\n",
       "      <td>0.997939</td>\n",
       "      <td>0.998969</td>\n",
       "    </tr>\n",
       "  </tbody>\n",
       "</table>\n",
       "</div>"
      ]
     },
     "metadata": {},
     "output_type": "display_data"
    }
   ],
   "execution_count": 414
  },
  {
   "metadata": {},
   "cell_type": "markdown",
   "source": "<h1> Modelo campeão </h1>",
   "id": "334b6fe7ffdeb8fe"
  },
  {
   "metadata": {
    "ExecuteTime": {
     "end_time": "2025-09-03T01:12:26.027263Z",
     "start_time": "2025-09-03T01:12:26.022192Z"
    }
   },
   "cell_type": "code",
   "source": "print(f\"O melhor modelo é: {melhor}\")",
   "id": "25cb972d800a2782",
   "outputs": [
    {
     "name": "stdout",
     "output_type": "stream",
     "text": [
      "O melhor modelo é: Decision Tree (Entropia)\n"
     ]
    }
   ],
   "execution_count": 415
  },
  {
   "metadata": {},
   "cell_type": "markdown",
   "source": "<h1> Mais visualizações do modelo campeão</h1>",
   "id": "a985298d1a39f3db"
  },
  {
   "metadata": {
    "ExecuteTime": {
     "end_time": "2025-09-03T01:12:26.590026Z",
     "start_time": "2025-09-03T01:12:26.136770Z"
    }
   },
   "cell_type": "code",
   "source": [
    "if problema == \"classificacao\":\n",
    "    matriz = confusion_matrix(y_test, y_pred, labels=modelos[melhor].classes_)\n",
    "    disp = ConfusionMatrixDisplay(confusion_matrix=matriz, display_labels=modelos[melhor].classes_)\n",
    "    disp.plot(cmap=plt.cm.viridis)\n",
    "    plt.grid(False)\n",
    "    plt.title('Matriz de Confusão')\n",
    "    plt.show()\n",
    "\n",
    "\n",
    "    visualizer = yb.ClassificationReport(\n",
    "                                        modelos[melhor],\n",
    "                                        classes=modelos[melhor].classes_,\n",
    "                                        cmap= \"Blues\")\n",
    "\n",
    "    visualizer.fit(x_train, y_train)\n",
    "\n",
    "    visualizer.score(x_test, y_test)\n",
    "\n",
    "    visualizer.show()\n",
    "\n",
    "    plt.figure(figsize=(8,5))\n",
    "    ax = sns.barplot(x=df_resultados.index, y='Accuracy', data=df_resultados, palette=\"viridis\")\n",
    "    plt.ylim(0, 1.2)\n",
    "    plt.title(\"Comparação de Acurácia dos Modelos\")\n",
    "    plt.ylabel(\"Acurácia\")\n",
    "    plt.xticks(rotation=45)\n",
    "    for container in ax.containers:\n",
    "        ax.bar_label(container, labels=[f'{v.get_height()*100:.2f}%' for v in container])\n",
    "    plt.show()\n",
    "\n",
    "\n",
    "    # else:\n",
    "# Fazer as visualizações para regressão. (Não aprendi_)"
   ],
   "id": "5ea70334679a56ab",
   "outputs": [
    {
     "data": {
      "text/plain": [
       "<Figure size 800x550 with 2 Axes>"
      ],
      "image/png": "[encoded data removed]"
     },
     "metadata": {},
     "output_type": "display_data"
    },
    {
     "name": "stderr",
     "output_type": "stream",
     "text": [
      "C:\\Users\\rafaelcruz-ieg\\AppData\\Local\\Packages\\PythonSoftwareFoundation.Python.3.11_qbz5n2kfra8p0\\LocalCache\\local-packages\\Python311\\site-packages\\sklearn\\utils\\validation.py:2739: UserWarning: X does not have valid feature names, but DecisionTreeClassifier was fitted with feature names\n",
      "  warnings.warn(\n"
     ]
    },
    {
     "data": {
      "text/plain": [
       "<Figure size 800x550 with 2 Axes>"
      ],
      "image/png": "[encoded data removed]"
     },
     "metadata": {},
     "output_type": "display_data"
    },
    {
     "name": "stderr",
     "output_type": "stream",
     "text": [
      "C:\\Users\\rafaelcruz-ieg\\AppData\\Local\\Temp\\ipykernel_4936\\4139640212.py:22: FutureWarning: \n",
      "\n",
      "Passing `palette` without assigning `hue` is deprecated and will be removed in v0.14.0. Assign the `x` variable to `hue` and set `legend=False` for the same effect.\n",
      "\n",
      "  ax = sns.barplot(x=df_resultados.index, y='Accuracy', data=df_resultados, palette=\"viridis\")\n"
     ]
    },
    {
     "data": {
      "text/plain": [
       "<Figure size 800x500 with 1 Axes>"
      ],
      "image/png": "[encoded data removed]"
     },
     "metadata": {},
     "output_type": "display_data"
    }
   ],
   "execution_count": 416
  }
 ],
 "metadata": {
  "kernelspec": {
   "display_name": "Python 3",
   "language": "python",
   "name": "python3"
  },
  "language_info": {
   "codemirror_mode": {
    "name": "ipython",
    "version": 2
   },
   "file_extension": ".py",
   "mimetype": "text/x-python",
   "name": "python",
   "nbconvert_exporter": "python",
   "pygments_lexer": "ipython2",
   "version": "2.7.6"
  }
 },
 "nbformat": 4,
 "nbformat_minor": 5
}
