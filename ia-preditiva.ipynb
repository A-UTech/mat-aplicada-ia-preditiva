{
 "cells": [
  {
   "metadata": {},
   "cell_type": "markdown",
   "source": [
    "<h1>Inteligência Artificial Preditiva</h1>\n",
    "\n",
    "<p>Este notebook tem como objetivo explorar 5 principais modelos de inteligência artificial preditiva: </p>\n",
    "\n",
    "<ol>\n",
    "<li>Naive Bayes</li>\n",
    "<li>Decision Tree: Gini</li>\n",
    "<li>Decision Tree: Entropia</li>\n",
    "<li>K-Nearest Neighbors (KNN)</li>\n",
    "<li>Regressão Linear</li>\n",
    "</ol>\n",
    "\n",
    "<p>Desses 5, usaremos a que melhor performou para a base de dados que você irá inserir!\n",
    "</p>\n",
    "\n",
    "#### CODEOWNERS:\n",
    "- **Rafael Cruz** [GitHub](https://github.com/RafaelBarretoCruz)\n",
    "- **Gabriel Martins** [GitHub](https://github.com/RafaelBarretoCruz)\n",
    "- **Fellipe Meira** [GitHub](https://github.com/RafaelBarretoCruz)\n",
    "\n"
   ],
   "id": "44c70cb17dd9cfa8"
  },
  {
   "cell_type": "code",
   "execution_count": null,
   "id": "initial_id",
   "metadata": {
    "collapsed": true
   },
   "outputs": [],
   "source": "# Começar !"
  }
 ],
 "metadata": {
  "kernelspec": {
   "display_name": "Python 3",
   "language": "python",
   "name": "python3"
  },
  "language_info": {
   "codemirror_mode": {
    "name": "ipython",
    "version": 2
   },
   "file_extension": ".py",
   "mimetype": "text/x-python",
   "name": "python",
   "nbconvert_exporter": "python",
   "pygments_lexer": "ipython2",
   "version": "2.7.6"
  }
 },
 "nbformat": 4,
 "nbformat_minor": 5
}
